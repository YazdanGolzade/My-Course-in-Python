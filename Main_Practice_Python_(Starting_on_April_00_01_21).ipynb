{
  "nbformat": 4,
  "nbformat_minor": 0,
  "metadata": {
    "colab": {
      "name": "Main Practice Python (Starting on April 00.01.21).ipynb",
      "provenance": [],
      "collapsed_sections": [],
      "authorship_tag": "ABX9TyPns+JIK4xKF8R/ktBoreDz",
      "include_colab_link": true
    },
    "kernelspec": {
      "name": "python3",
      "display_name": "Python 3"
    },
    "language_info": {
      "name": "python"
    }
  },
  "cells": [
    {
      "cell_type": "markdown",
      "metadata": {
        "id": "view-in-github",
        "colab_type": "text"
      },
      "source": [
        "<a href=\"https://colab.research.google.com/github/YazdanGolzade/My-Course-in-Python/blob/main/Main_Practice_Python_(Starting_on_April_00_01_21).ipynb\" target=\"_parent\"><img src=\"https://colab.research.google.com/assets/colab-badge.svg\" alt=\"Open In Colab\"/></a>"
      ]
    },
    {
      "cell_type": "markdown",
      "metadata": {
        "id": "_ieMW2I9iWFD"
      },
      "source": [
        "**Exercise 01 (Character Input)** *\n",
        "\n",
        "---\n",
        "\n",
        "\n",
        "\n",
        "---\n",
        "\n",
        "\n",
        "\n",
        "\n",
        "Create a program that asks the user to enter their name and their age. \n",
        "\n",
        "Print out a message addressed to them that tells them the year that they will turn 100 years old.\n",
        "\n",
        "Extras:\n",
        "\n",
        "01- Add on to the previous program by asking the user for another number and printing out that many copies of the previous message.\n",
        " (Hint: order of operations exists in Python)\n",
        "\n",
        "\n",
        "02- Print out that many copies of the previous message on separate lines.\n",
        "\n",
        "(Hint: the string \"\\n is the same as pressing the ENTER button)\n",
        "\n",
        "Discussion\n",
        "Concepts for this week:\n",
        "\n",
        "01- Getting user input\n",
        "\n",
        "02- Manipulating strings (a few ways)"
      ]
    },
    {
      "cell_type": "code",
      "metadata": {
        "id": "kRXNfoQSjLoF"
      },
      "source": [
        "name = input(\"Give me your name: \")\n",
        "print(\"Your name is \" + name)"
      ],
      "execution_count": null,
      "outputs": []
    },
    {
      "cell_type": "code",
      "metadata": {
        "id": "ntg5XjOQlaWz"
      },
      "source": [
        "age = int(input(name+\", how old are you? \"))\n",
        "print(\"You are\" ,age, \"years old \")"
      ],
      "execution_count": null,
      "outputs": []
    },
    {
      "cell_type": "markdown",
      "metadata": {
        "id": "8DY_yF56kMvk"
      },
      "source": [
        "**Exercise 02 (Odd Or Even)** * \n",
        "\n",
        "\n",
        "---\n",
        "\n",
        "\n",
        "\n",
        "---\n",
        "\n",
        "\n",
        "\n",
        "Ask the user for a number.\n",
        " Depending on whether the number is even or odd, print out a appropriate message to the user. \n",
        " Hint: how does an even / odd number react differently when divided by 2?\n",
        "\n",
        "Extras:\n",
        "\n",
        "01-If the number is a multiple of 4, print out a different message.\n",
        "\n",
        "02- Ask the user for two numbers: one number to check (call it num) and one number to divide by (check). \n",
        "If check divides evenly into num, tell that to the user. If not, print a different appropriate message.\n",
        "\n",
        "Discussion\n",
        "Concepts for this week:\n",
        "\n",
        "01- Modular arithmetic (the modulus operator)\n",
        "02- Conditionals (if statements)\n",
        "03- Checking equality"
      ]
    },
    {
      "cell_type": "code",
      "metadata": {
        "id": "E9WKV56CeJRf"
      },
      "source": [
        "num = int(input(\"Give me a int number: \"))\n",
        "if num%2==0:\n",
        "  print(str(num)+' is even.')\n",
        "else:\n",
        "    print(str(num)+ \" is Odd.\")\n",
        "\n"
      ],
      "execution_count": null,
      "outputs": []
    },
    {
      "cell_type": "markdown",
      "metadata": {
        "id": "WDG2gLQijDao"
      },
      "source": [
        "**Exercise 03 (List Less Than Ten )** ** \n",
        "\n",
        "\n",
        "---\n",
        "\n",
        "\n",
        "\n",
        "---\n",
        "\n",
        "\n",
        "\n",
        "Take a list, say for example this one:\n",
        "\n",
        "  a = [1, 1, 2, 3, 5, 8, 13, 21, 34, 55, 89]\n",
        "and \n",
        "\n",
        "write a program that prints out all the elements of the list that are less than 5.\n",
        "\n",
        "Extras:\n",
        "\n",
        "01- Instead of printing the elements one by one, make a new list that has all the elements less than 5 from this list in it and print out this new list.\n",
        "02- Write this in one line of Python.\n",
        "\n",
        "03- Ask the user for a number and return a list that contains only elements from the original list a that are smaller than that number given by the user."
      ]
    },
    {
      "cell_type": "code",
      "metadata": {
        "id": "sqy2htsIkGhq"
      },
      "source": [
        "my_list = [1, 1, 2, 3, 5, 8, 13, 21, 34, 55, 89, 5,2,3]\n",
        "for element in my_list:\n",
        "  if element<5:\n",
        "    print(element)"
      ],
      "execution_count": null,
      "outputs": []
    },
    {
      "cell_type": "markdown",
      "metadata": {
        "id": "tF8D1ZGtv4LV"
      },
      "source": [
        "**Exercise 04 (Divisors )** ** \n",
        "\n",
        "\n",
        "---\n",
        "\n",
        "\n",
        "\n",
        "---\n",
        "\n",
        "\n",
        "\n",
        "Create a program that asks the user for a number and then prints out a list of all the divisors of that number. (If you don’t know what a divisor is, it is a number that divides evenly into another number. For example, 13 is a divisor of 26 because 26 / 13 has no remainder.)"
      ]
    },
    {
      "cell_type": "code",
      "metadata": {
        "id": "FksTSlp3oXHH"
      },
      "source": [
        "num = int(input(\"Give me a int number: \"))\n",
        "for k in range(1,num+1):\n",
        "  if num%k==0:\n",
        "    print(k)\n",
        "\n"
      ],
      "execution_count": null,
      "outputs": []
    },
    {
      "cell_type": "markdown",
      "metadata": {
        "id": "EwXlAcprwE2f"
      },
      "source": [
        "**Exercise 05 (List Overlap )** ** \n",
        "\n",
        "\n",
        "---\n",
        "\n",
        "\n",
        "\n",
        "---\n",
        "\n",
        "\n",
        "\n",
        "Take two lists, say for example these two:\n",
        "\n",
        "  a = [1, 1, 2, 3, 5, 8, 13, 21, 34, 55, 89]\n",
        "  b = [1, 2, 3, 4, 5, 6, 7, 8, 9, 10, 11, 12, 13]\n",
        "and\n",
        "\n",
        " write a program that returns a list that contains only the elements that are common between the lists (without duplicates).\n",
        " \n",
        "  Make sure your program works on two lists of different sizes.\n",
        "\n",
        "Extras:\n",
        "\n",
        "01- Randomly generate two lists to test this\n",
        "\n",
        "02- Write this in one line of Python \n",
        "\n",
        "(don’t worry if you can’t figure this out at this point - we’ll get to it soon)"
      ]
    },
    {
      "cell_type": "code",
      "metadata": {
        "id": "W4J7ffnOw197"
      },
      "source": [
        "A = [1, 1, 2, 3, 5, 8, 13, 21, 34, 55, 89]\n",
        "B = [1, 2, 3, 4, 5, 6, 7, 8, 9, 10, 11, 12, 13]\n",
        "Intersection=[]\n",
        "\n",
        "#Remove Duplicates From a Python List \n",
        "A=list(dict.fromkeys(A))\n",
        "B=list(dict.fromkeys(B))\n",
        "\n",
        "for a in A:\n",
        "  for b in B:\n",
        "    if a==b:\n",
        "      Intersection.append(a)\n",
        "Intersection      \n"
      ],
      "execution_count": null,
      "outputs": []
    },
    {
      "cell_type": "code",
      "metadata": {
        "id": "AoTtD4x1iW_l"
      },
      "source": [
        "# Write this in one line of Python\n",
        "\n",
        "x = {\"apple\", \"banana\", \"cherry\"}\n",
        "y = {\"google\", \"microsoft\", \"apple\"}\n",
        "\n",
        "z = x.intersection(y)\n",
        "\n",
        "print(z) "
      ],
      "execution_count": null,
      "outputs": []
    },
    {
      "cell_type": "markdown",
      "metadata": {
        "id": "894JGuvqhR7S"
      },
      "source": [
        "**Exercise 06 (String Lists )** ** \n",
        "\n",
        "\n",
        "---\n",
        "\n",
        "\n",
        "\n",
        "---\n",
        "\n",
        "\n",
        "\n",
        "Ask the user for a string and print out whether this string is a palindrome or not. \n",
        "\n",
        "(A palindrome is a string that reads the same forwards and backwards.)"
      ]
    },
    {
      "cell_type": "code",
      "metadata": {
        "id": "QlM7nXB-jTCQ"
      },
      "source": [
        "Str = str(input(\"Give me a string: \"))\n",
        "L=Str[0:(len(Str)) // 2] \n",
        "if len(Str)%2!=0:\n",
        "  R=Str[((len(Str)) // 2)+1:][::-1]\n",
        "else:  \n",
        "  R=Str[((len(Str)) // 2):][::-1] \n",
        "if L==R:\n",
        "  print( \"string is a palindrome\")\n",
        "else:\n",
        "  print( \"string is not a palindrome\")\n",
        "\n",
        "    \n",
        "\n",
        "\n",
        "\n",
        "    \n"
      ],
      "execution_count": null,
      "outputs": []
    },
    {
      "cell_type": "code",
      "metadata": {
        "id": "Xkbb58zqfnjC"
      },
      "source": [
        "#Short Version\n",
        "\n",
        "Str = input(\"Give me a string: \")\n",
        "revers=Str[::-1] \n",
        "if Str==revers:\n",
        "  print( \"string is a palindrome\")\n",
        "else:\n",
        "  print( \"string is not a palindrome\")\n"
      ],
      "execution_count": null,
      "outputs": []
    },
    {
      "cell_type": "markdown",
      "metadata": {
        "id": "8E5y4MAdXUNz"
      },
      "source": [
        "**Exercise 07 (List Comprehensions )** ** \n",
        "\n",
        "\n",
        "---\n",
        "\n",
        "\n",
        "\n",
        "---\n",
        "\n",
        "\n",
        "\n",
        "Let’s say I give you a list saved in a variable:\n",
        "\n",
        " a = [1, 4, 9, 16, 25, 36, 49, 64, 81, 100]. \n",
        " \n",
        " Write one line of Python that\n",
        " \n",
        "  takes this list a and makes a new list that has only the even elements of this list in it."
      ]
    },
    {
      "cell_type": "code",
      "metadata": {
        "id": "XHVUm-HzXs8E"
      },
      "source": [
        "A = [1, 4, 9, 16, 25, 36, 49, 64, 81, 100]\n",
        "[a for a in A if a%2==0]"
      ],
      "execution_count": null,
      "outputs": []
    },
    {
      "cell_type": "markdown",
      "metadata": {
        "id": "_Ek9HFAAvxIQ"
      },
      "source": [
        "**Exercise 08 (Rock Paper Scissors )** *** \n",
        "\n",
        "\n",
        "---\n",
        "\n",
        "\n",
        "\n",
        "---\n",
        "\n",
        "\n",
        "Make a two-player Rock-Paper-Scissors game. \n",
        "\n",
        "(Hint: Ask for player plays (using input), compare them, print out a message of congratulations to the winner,\n",
        "\n",
        " and ask if the players want to start a new game)\n",
        "\n",
        "Remember the rules:\n",
        "\n",
        "*Rock beats scissors\n",
        "\n",
        "*Scissors beats paper\n",
        "\n",
        "*Paper beats rock."
      ]
    },
    {
      "cell_type": "code",
      "metadata": {
        "id": "lahxRdzYwelT"
      },
      "source": [
        "import sys\n",
        "\n",
        "#player1 = input(\"What's your name?\")\n",
        "#player2 = input(\"And your name?\")\n",
        "player1 = input(\"Please choose one of the stones, paper or scissors: \")\n",
        "player2 = input(\"Please choose one of the stones, paper or scissors: \")\n",
        "\n",
        "def compare(u1, u2):\n",
        "    if u1 == u2:\n",
        "        return(\"It was a nil-nil draw!\")\n",
        "    elif u1 == 'rock':\n",
        "        if u2 == 'scissors':\n",
        "            return(\"Rock wins!\")\n",
        "        else:\n",
        "            return(\"Paper wins!\")\n",
        "    elif u1 == 'scissors':\n",
        "        if u2 == 'paper':\n",
        "            return(\"Scissors win!\")\n",
        "        else:\n",
        "            return(\"Rock wins!\")\n",
        "    elif u1 == 'paper':\n",
        "        if u2 == 'rock':\n",
        "            return(\"Paper wins!\")\n",
        "        else:\n",
        "            return(\"Scissors win!\")\n",
        "    else:\n",
        "        return(\"Invalid input! You have not entered rock, paper or scissors, try again.\")\n",
        "        sys.exit()\n",
        "\n",
        "print(compare(player1, player2))"
      ],
      "execution_count": null,
      "outputs": []
    },
    {
      "cell_type": "markdown",
      "metadata": {
        "id": "LEz5rxP84O5j"
      },
      "source": [
        "**Exercise 09 (Guessing Game One )** *** \n",
        "\n",
        "\n",
        "---\n",
        "\n",
        "\n",
        "\n",
        "---\n",
        "\n",
        "\n",
        "Generate a random number between 1 and 9 (including 1 and 9).\n",
        "\n",
        "Ask the user to guess the number, then tell them whether they guessed too low, too high, or exactly right. \n",
        "\n",
        "(Hint: remember to use the user input lessons from the very first exercise)\n",
        "\n",
        "Extras:\n",
        "\n",
        "*Keep the game going until the user types “exit”\n",
        "\n",
        "*Keep track of how many guesses the user has taken,\n",
        "\n",
        " and when the game ends, print this out."
      ]
    },
    {
      "cell_type": "code",
      "metadata": {
        "id": "mSAuCKx443RW"
      },
      "source": [
        "import random\n",
        "rd = random.randint(1, 9)\n",
        "user_guess_num = int(input(\"Give me a int number between 1and9 (including 1and9): \"))\n",
        "if user_guess_num < rd:\n",
        "        print(\"Too low\")\n",
        "elif user_guess_num > rd:\n",
        "        print(\"Too high\")\n",
        "else:\n",
        "        print(\"Right!\")\n"
      ],
      "execution_count": null,
      "outputs": []
    },
    {
      "cell_type": "code",
      "metadata": {
        "id": "FWRo59U2YAAV"
      },
      "source": [
        "#Modify the code so that the game continues to the correct guess\n",
        "\n"
      ],
      "execution_count": null,
      "outputs": []
    },
    {
      "cell_type": "markdown",
      "metadata": {
        "id": "4l3zdl5TX5jx"
      },
      "source": [
        "**Exercise 10 (List Overlap Comprehensions )** ** \n",
        "\n",
        "\n",
        "---\n",
        "\n",
        "\n",
        "\n",
        "---\n",
        "\n",
        "\n",
        "This week’s exercise is going to be revisiting an old exercise (see Exercise 5),\n",
        "\n",
        " except require the solution in a different way.\n",
        "\n",
        "Take two lists, say for example these two:\n",
        "\n",
        "\ta = [1, 1, 2, 3, 5, 8, 13, 21, 34, 55, 89]\n",
        "\tb = [1, 2, 3, 4, 5, 6, 7, 8, 9, 10, 11, 12, 13]\n",
        "\n",
        "and write a program that returns a list that contains only the elements that are common between the lists (without duplicates).\n",
        "\n",
        " Make sure your program works on two lists of different sizes.\n",
        " \n",
        "  Write this in one line of Python using at least one list comprehension. \n",
        "  \n",
        "  (Hint: Remember list comprehensions from Exercise 7)."
      ]
    },
    {
      "cell_type": "code",
      "metadata": {
        "id": "zn-J45AGZK1o"
      },
      "source": [
        "A = [1, 1, 2, 3, 5, 8, 13, 21, 34, 55, 89]\n",
        "B = [1, 2, 3, 4, 5, 6, 7, 8, 9, 10, 11, 12, 13]\n",
        "[a for a in set(A) if a in B]"
      ],
      "execution_count": null,
      "outputs": []
    },
    {
      "cell_type": "markdown",
      "metadata": {
        "id": "TdjnrfgiW-Qe"
      },
      "source": [
        "**Exercise 11 (Check Primality Functions )** ***\n",
        "\n",
        "\n",
        "---\n",
        "\n",
        "\n",
        "\n",
        "---\n",
        "\n",
        "\n",
        "Ask the user for a number and determine whether the number is prime or not. \n",
        "\n",
        "(For those who have forgotten, a prime number is a number that has no divisors.).\n",
        "\n",
        " You can (and should!) use your answer to Exercise 4 to help you. \n",
        " \n",
        " Take this opportunity to practice using functions, described below."
      ]
    },
    {
      "cell_type": "code",
      "metadata": {
        "id": "c-Cl5vS8JREj"
      },
      "source": [
        "num = int(input(\"Give me a int number: \"))\n",
        "Divisors_list=[]\n",
        "for k in range(1,num+1):\n",
        "  if num%k==0:\n",
        "    Divisors_list.append(k)\n",
        "if len(Divisors_list)==2:\n",
        "  print(str(num)+' is prime.')\n",
        "else:\n",
        "  print(str(num)+' is not prime.')"
      ],
      "execution_count": null,
      "outputs": []
    },
    {
      "cell_type": "markdown",
      "metadata": {
        "id": "jKhCug2_NYxg"
      },
      "source": [
        "**Exercise 12 (List Ends )** *\n",
        "\n",
        "\n",
        "---\n",
        "\n",
        "\n",
        "\n",
        "---\n",
        "\n",
        "\n",
        "Write a program that takes a list of numbers\n",
        "\n",
        " (for example, a = [5, 10, 15, 20, 25]) \n",
        " \n",
        " and makes a new list of only the first and last elements of the given list.\n",
        " \n",
        "  For practice, write this code inside a function."
      ]
    },
    {
      "cell_type": "code",
      "metadata": {
        "id": "Hp7kQeqyN2Hv"
      },
      "source": [
        "A = [5, 10, 15, 20, 25]\n",
        "The_first=A[0]\n",
        "The_last=A[len(A)-1]\n",
        "print('The first element of the list is ' + str(The_first) )\n",
        "print('And, the last element of the list is ' + str(The_last) )"
      ],
      "execution_count": null,
      "outputs": []
    },
    {
      "cell_type": "markdown",
      "metadata": {
        "id": "lNPFE-wMQ0Ti"
      },
      "source": [
        "**Exercise 13 (Fibonacci )** **\n",
        "\n",
        "\n",
        "---\n",
        "\n",
        "\n",
        "\n",
        "---\n",
        "\n",
        "\n",
        "Write a program that asks the user how many Fibonnaci numbers to generate and then generates them. \n",
        "\n",
        "Take this opportunity to think about how you can use functions. \n",
        "\n",
        "Make sure to ask the user to enter the number of numbers in the sequence to generate.\n",
        "\n",
        "(Hint: The Fibonnaci seqence is a sequence of numbers where the next number in the sequence is the sum of the previous two numbers in the sequence. \n",
        "\n",
        "The sequence looks like this: 1, 1, 2, 3, 5, 8, 13, …)"
      ]
    },
    {
      "cell_type": "code",
      "metadata": {
        "id": "ETVEts0xRQKf"
      },
      "source": [
        "def fibonacci():\n",
        "    num = int(input(\"How many fibonacci numbers would you like to generate? \"))\n",
        "    i = 1\n",
        "    if num == 0:\n",
        "        fib = []\n",
        "    elif num == 1:\n",
        "        fib = [1]\n",
        "    elif num == 2:\n",
        "        fib = [1,1]\n",
        "    elif num > 2:\n",
        "        fib = [1,1]\n",
        "        while i < (num - 1):\n",
        "            fib.append(fib[i] + fib[i-1])\n",
        "            i += 1\n",
        "    return fib\n",
        "print(fibonacci())"
      ],
      "execution_count": null,
      "outputs": []
    },
    {
      "cell_type": "markdown",
      "metadata": {
        "id": "PsIQrMiV1lTW"
      },
      "source": [
        "**Exercise 14 (List Remove Duplicates )** **\n",
        "\n",
        "\n",
        "---\n",
        "\n",
        "\n",
        "\n",
        "---\n",
        "\n",
        "\n",
        "Write a program (function!) that takes a list and returns a new list that contains all the elements of the first list minus all the duplicates.\n",
        "\n",
        "Extras:\n",
        "\n",
        "01- Write two different functions to do this - one using a loop and constructing a list, and another using sets.\n",
        "\n",
        "02- Go back and do Exercise 5 using sets, and write the solution for that in a different function."
      ]
    },
    {
      "cell_type": "code",
      "metadata": {
        "id": "g38tPN0x2NUo"
      },
      "source": [
        "A= [1,2,1,1,3,25,45,25]\n",
        "def list_remove_duplicates(A):\n",
        "  new_list=set(A)\n",
        "  return new_list\n",
        "\n",
        "list_remove_duplicates(A)"
      ],
      "execution_count": null,
      "outputs": []
    },
    {
      "cell_type": "markdown",
      "metadata": {
        "id": "jwyRI8ls1mLB"
      },
      "source": [
        "\n",
        "\n",
        "\n",
        "**Exercise 15 (Reverse Word Order )** ***\n",
        "\n",
        "\n",
        "---\n",
        "\n",
        "\n",
        "\n",
        "---\n",
        "\n",
        "\n",
        "Write a program (using functions!) that asks the user for a long string containing multiple words. \n",
        "\n",
        "Print back to the user the same string, except with the words in backwards order. \n",
        "\n",
        "For example, say I type the string:\n",
        "\n",
        "  My name is Michele\n",
        "\n",
        "Then I would see the string:\n",
        "\n",
        "  Michele is name My\n",
        "  \n",
        "shown back to me."
      ]
    },
    {
      "cell_type": "code",
      "metadata": {
        "id": "bNUSHJTa2rse"
      },
      "source": [
        "S = input(\"Give me a sentence in a few words: \")\n",
        "def reverse_sentence(u):\n",
        "  list_Sentence = u.split()\n",
        "  reverse_list = list_Sentence[ : : -1] \n",
        "  new_Sentence = ' '.join(reverse_list)\n",
        "  return new_Sentence\n",
        "   \n",
        "reverse_sentence(S)"
      ],
      "execution_count": null,
      "outputs": []
    },
    {
      "cell_type": "markdown",
      "metadata": {
        "id": "nLaktmaY1mtJ"
      },
      "source": [
        "**Exercise 16 (Password Generator )** ****\n",
        "\n",
        "\n",
        "---\n",
        "\n",
        "\n",
        "\n",
        "---\n",
        "\n",
        "\n",
        "Write a password generator in Python. \n",
        "\n",
        "Be creative with how you generate passwords - strong passwords have a mix of lowercase letters, uppercase letters, numbers, and symbols. \n",
        "\n",
        "The passwords should be random, generating a new password every time the user asks for a new password. \n",
        "\n",
        "Include your run-time code in a main method.\n",
        "\n",
        "Extra:\n",
        "\n",
        "Ask the user how strong they want their password to be. \n",
        "\n",
        "For weak passwords, pick a word or two from a list."
      ]
    },
    {
      "cell_type": "code",
      "metadata": {
        "id": "vebRbYbGKwg8"
      },
      "source": [
        "import random\n",
        "import string\n",
        "\n",
        "chars=string.ascii_letters \n",
        "digits=string.digits\n",
        "punctuation=string.punctuation\n",
        "cdp=chars + digits + punctuation\n",
        "\n",
        "num=int(input('Please enter the number of characters in the password'))\n",
        "\n",
        "Password =  \"\".join(random.sample(cdp , num))\n",
        "Password\n"
      ],
      "execution_count": null,
      "outputs": []
    },
    {
      "cell_type": "code",
      "metadata": {
        "id": "aQwQod7Y3G99"
      },
      "source": [
        "#solution 2\n",
        "import string\n",
        "import random\n",
        "\n",
        "def pw_gen(size = 8, chars=string.ascii_letters + string.digits + string.punctuation):\n",
        "\treturn ''.join(random.choice(chars) for _ in range(size))\n",
        "\n",
        "print(pw_gen(int(input('How many characters in your password?'))))"
      ],
      "execution_count": null,
      "outputs": []
    },
    {
      "cell_type": "code",
      "metadata": {
        "id": "pBT-0PtVKYN9"
      },
      "source": [
        "#solution 3\n",
        "import random\n",
        "\n",
        "s = \"abcdefghijklmnopqrstuvwxyz01234567890ABCDEFGHIJKLMNOPQRSTUVWXYZ!@#$%^&*()?\"\n",
        "passlen = 8\n",
        "p =  \"\".join(random.sample(s,passlen ))\n",
        "p"
      ],
      "execution_count": null,
      "outputs": []
    },
    {
      "cell_type": "markdown",
      "metadata": {
        "id": "KVRBhyPx1ojp"
      },
      "source": [
        "**Exercise 18 (Cows And Bulls )** ***\n",
        "\n",
        "\n",
        "---\n",
        "\n",
        "\n",
        "\n",
        "---\n",
        "\n",
        "\n",
        "Create a program that will play the “cows and bulls” game with the user. \n",
        "\n",
        "The game works like this:\n",
        "\n",
        "Randomly generate a 4-digit number. Ask the user to guess a 4-digit number.\n",
        "\n",
        " For every digit that the user guessed correctly in the correct place, they have a “cow”. For every digit the user guessed correctly in the wrong place is a “bull.” \n",
        " \n",
        " Every time the user makes a guess, tell them how many “cows” and “bulls” they have.\n",
        " \n",
        "  Once the user guesses the correct number, the game is over. \n",
        "  \n",
        "  Keep track of the number of guesses the user makes throughout teh game and tell the user at the end.\n",
        "\n",
        "Say the number generated by the computer is 1038. \n",
        "\n",
        "An example interaction could look like this:\n",
        "\n",
        "  Welcome to the Cows and Bulls Game! \n",
        "\n",
        "  Enter a number: \n",
        "\n",
        "  >>> 1234\n",
        "\n",
        "  2 cows, 0 bulls\n",
        "\n",
        "  >>> 1256\n",
        "\n",
        "  1 cow, 1 bull\n",
        "\n",
        "  ...\n",
        "  \n",
        "Until the user guesses the number."
      ]
    },
    {
      "cell_type": "code",
      "metadata": {
        "id": "sUI8F3fV4EyJ"
      },
      "source": [
        ""
      ],
      "execution_count": null,
      "outputs": []
    },
    {
      "cell_type": "markdown",
      "metadata": {
        "id": "nSh-isCI1ozl"
      },
      "source": [
        "**Exercise 20 (Element Search )** *\n",
        "\n",
        "\n",
        "---\n",
        "\n",
        "\n",
        "\n",
        "---\n",
        "\n",
        "\n",
        "Write a function that takes an ordered list of numbers (a list where the elements are in order from smallest to largest) and another number.\n",
        "\n",
        " The function decides whether or not the given number is inside the list and returns (then prints) an appropriate boolean.\n",
        "\n",
        "Extras:\n",
        "\n",
        "\n",
        "Use binary search."
      ]
    },
    {
      "cell_type": "code",
      "metadata": {
        "id": "o_5dSJJ1XprM"
      },
      "source": [
        "# The exercise can be found at: http://www.practicepython.org/exercise/2014/11/11/20-element-search.html\n",
        "#\n",
        "# Write a function that takes an ordered list of numbers (a list where the elements are in order from smallest to largest) \n",
        "# and another number. The function decides whether or not the given number is inside the list and returns (then prints) \n",
        "# an appropriate boolean.\n",
        "\n",
        "# find is a function that takes an ordered list of numbers and another number,\n",
        "# returning true or false whether the element appears in the list\n",
        "# \n",
        "# l is a list ordered from smallest to largest\n",
        "# element is the number to find in the original list\n",
        "def find(ordered_list, element_to_find):\n",
        "  for element in ordered_list:\n",
        "    if element == element_to_find:\n",
        "      return True\n",
        "  return False\n",
        "  \n",
        "if __name__==\"__main__\":\n",
        "  l = [2, 4, 6, 8, 10]\n",
        "  print(find(l, 5)) # prints False\n",
        "  print(find(l, 10)) # prints True\n",
        "  print(find(l, -1)) # prints False\n",
        "  print(find(l, 2)) # prints True"
      ],
      "execution_count": null,
      "outputs": []
    },
    {
      "cell_type": "markdown",
      "metadata": {
        "id": "s44qMoM0Xqxk"
      },
      "source": [
        "**Exercise 20+1 (Sort the list )** ****\n",
        "\n",
        "\n",
        "---\n",
        "\n",
        "\n",
        "\n",
        "---\n",
        "\n",
        "\n",
        "Write a function that takes a list of numbers and Sort the list.\n",
        "\n",
        " "
      ]
    },
    {
      "cell_type": "code",
      "metadata": {
        "id": "x8vCLj9AP-nZ"
      },
      "source": [
        "\n",
        "def sort(List):\n",
        "  def swap(i, j):\n",
        "    List[i], List[j] = List[j], List[i]\n",
        "  n = len(List)\n",
        "  swapped = True\n",
        "  m = -1\n",
        "  while swapped:\n",
        "      swapped = False\n",
        "      m = m + 1\n",
        "      for i in range(1, n-m):\n",
        "           if List[i - 1] > List[i]:\n",
        "               swap(i - 1, i)\n",
        "               swapped = True\n",
        "  return List"
      ],
      "execution_count": null,
      "outputs": []
    },
    {
      "cell_type": "code",
      "metadata": {
        "colab": {
          "base_uri": "https://localhost:8080/"
        },
        "id": "PpVgvakmb9SK",
        "outputId": "0bc0a575-c32a-4c45-bc67-03877393b451"
      },
      "source": [
        "#short method for sorting in python\n",
        "A=[5,2,3,9,1]\n",
        "A.sort()\n",
        "A"
      ],
      "execution_count": null,
      "outputs": [
        {
          "output_type": "execute_result",
          "data": {
            "text/plain": [
              "[1, 2, 3, 5, 9]"
            ]
          },
          "metadata": {
            "tags": []
          },
          "execution_count": 10
        }
      ]
    },
    {
      "cell_type": "code",
      "metadata": {
        "colab": {
          "base_uri": "https://localhost:8080/"
        },
        "id": "013-I3wuTwh2",
        "outputId": "297d1ba3-b986-408d-c8d8-fdfb6053c858"
      },
      "source": [
        "A= [21,2,1,1,3,10000,45,25,7,525252]\n",
        "sort(A)"
      ],
      "execution_count": null,
      "outputs": [
        {
          "output_type": "execute_result",
          "data": {
            "text/plain": [
              "[1, 1, 2, 3, 7, 21, 25, 45, 10000, 525252]"
            ]
          },
          "metadata": {
            "tags": []
          },
          "execution_count": 5
        }
      ]
    },
    {
      "cell_type": "markdown",
      "metadata": {
        "id": "45KegeF8ZPYo"
      },
      "source": [
        "**Exercise 21 (Write To A File )** *\n",
        "\n",
        "\n",
        "---\n",
        "\n",
        "\n",
        "\n",
        "---\n",
        "\n",
        "\n",
        "Take the code from the How To Decode A Website exercise \n",
        "\n",
        "(if you didn’t do it or just want to play with some different code, use the code from the solution),\n",
        "\n",
        " and instead of printing the results to a screen, write the results to a txt file.\n",
        " \n",
        "  In your code, just make up a name for the file you are saving to.\n",
        "\n",
        "Extras:\n",
        "\n",
        "Ask the user to specify the name of the output file that will be saved."
      ]
    },
    {
      "cell_type": "code",
      "metadata": {
        "id": "VHrjd7WadhIj"
      },
      "source": [
        ""
      ],
      "execution_count": null,
      "outputs": []
    },
    {
      "cell_type": "markdown",
      "metadata": {
        "id": "RoEHoNwhfSi4"
      },
      "source": [
        "**Exercise 21+1 (Creating Bag of Words )** ****\n",
        "\n",
        "\n",
        "---\n",
        "\n",
        "\n",
        "\n",
        "---\n",
        "\n",
        "\n",
        "Write a program that takes a file and prints the output file of each word along with the number of repetitions"
      ]
    },
    {
      "cell_type": "code",
      "metadata": {
        "id": "aDOEUpiVgxfo"
      },
      "source": [
        ""
      ],
      "execution_count": null,
      "outputs": []
    },
    {
      "cell_type": "markdown",
      "metadata": {
        "id": "ckDnSHTdiQAE"
      },
      "source": [
        "**Exercise 22 (Read From File )** ****\n",
        "\n",
        "\n",
        "---\n",
        "\n",
        "\n",
        "\n",
        "---\n",
        "\n",
        "Given a .txt file that has a list of a bunch of names, count how many of each name there are in the file, and\n",
        "\n",
        " print out the results to the screen. \n",
        " \n",
        " I have a .txt file for you, if you want to use it!\n",
        "\n",
        "Extra:\n",
        "\n",
        "Instead of using the .txt file from above (or instead of, if you want the challenge),\n",
        "\n",
        " take this .txt file, and count how many of each “category” of each image there are. \n",
        " \n",
        " This text file is actually a list of files corresponding to the SUN database scene recognition database, and lists the file directory hierarchy for the images. \n",
        " \n",
        " Once you take a look at the first line or two of the file, it will be clear which part represents the scene category. \n",
        " \n",
        " To do this, you’re going to have to remember a bit about string parsing in Python 3. \n",
        " \n",
        " I talked a little bit about it in this post."
      ]
    },
    {
      "cell_type": "code",
      "metadata": {
        "colab": {
          "base_uri": "https://localhost:8080/"
        },
        "id": "qKHGPagzi5bC",
        "outputId": "263c698e-01a1-4785-fdcc-695fca13cb4d"
      },
      "source": [
        "from google.colab import drive\n",
        "drive.mount('/content/drive')\n",
        "file_name = '/content/drive/MyDrive/Practic Python/nameslist.txt'\n",
        "\n",
        "counter_dict = {}\n",
        "with open(file_name , 'r') as f:\n",
        "\tline = f.readline()\n",
        "\twhile line:\n",
        "\t\tline = line.strip()\n",
        "\t\tif line in counter_dict:\n",
        "\t\t\tcounter_dict[line] += 1\n",
        "\t\telse:\n",
        "\t\t\tcounter_dict[line] = 1\n",
        "\t\tline = f.readline()\n",
        "\n",
        "print(counter_dict)"
      ],
      "execution_count": null,
      "outputs": [
        {
          "output_type": "stream",
          "text": [
            "Drive already mounted at /content/drive; to attempt to forcibly remount, call drive.mount(\"/content/drive\", force_remount=True).\n",
            "{'Yazdan': 5, 'Mohammad': 1, 'Ali': 9, 'Amir': 7, 'Reza': 6, 'Hamed': 4}\n"
          ],
          "name": "stdout"
        }
      ]
    },
    {
      "cell_type": "markdown",
      "metadata": {
        "id": "_bHv4RMyi-zc"
      },
      "source": [
        "**Exercise 23 (File Overlap )** **\n",
        "\n",
        "\n",
        "---\n",
        "\n",
        "\n",
        "\n",
        "---\n",
        "\n",
        "Given two .txt files that have lists of numbers in them, find the numbers that are overlapping. \n",
        "\n",
        "One .txt file has a list of all prime numbers under 1000, and the other .txt file has a list of happy numbers up to 1000.\n",
        "\n",
        "(If you forgot, prime numbers are numbers that can’t be divided by any other number. \n",
        "\n",
        "And yes, happy numbers are a real thing in mathematics - you can look it up on Wikipedia.\n",
        "\n",
        " The explanation is easier with an example, which I will describe below.)"
      ]
    },
    {
      "cell_type": "code",
      "metadata": {
        "colab": {
          "base_uri": "https://localhost:8080/"
        },
        "id": "sJ8ZxByinTon",
        "outputId": "c1fecd47-03c6-40ab-e583-b7479f92eabc"
      },
      "source": [
        "#The solution without functions using a for loop (read on for the one with functions and the explanation)\n",
        "\n",
        "from google.colab import drive\n",
        "drive.mount('/content/drive')\n",
        "file_name_primenumbers = '/content/drive/MyDrive/Practic Python/primenumbers.txt'\n",
        "file_name_happynumbers = '/content/drive/MyDrive/Practic Python/happynumbers.txt'\n",
        "\n",
        "primeslist = []\n",
        "with open(file_name_primenumbers) as primesfile:\n",
        "  line = primesfile.readline()\n",
        "  while line:\n",
        "    if line==\"\\n\":\n",
        "      break\n",
        "\n",
        "    primeslist.append(int((line)))\n",
        "    line = primesfile.readline()  \n",
        "\n",
        "happieslist = []\n",
        "with open(file_name_happynumbers) as happiesfile:\n",
        "  line = happiesfile.readline()\n",
        "  while line:\n",
        "    if line==\"\\n\":\n",
        "      break\n",
        "    happieslist.append(int(line))\n",
        "    line = happiesfile.readline()\n",
        "\n",
        "overlaplist = []\n",
        "for elem in primeslist:\n",
        "\tif elem in happieslist:\n",
        "\t\toverlaplist.append(elem)\n",
        "\t\t\n",
        "print(overlaplist)"
      ],
      "execution_count": null,
      "outputs": [
        {
          "output_type": "stream",
          "text": [
            "Drive already mounted at /content/drive; to attempt to forcibly remount, call drive.mount(\"/content/drive\", force_remount=True).\n",
            "[7, 13, 19, 23, 31, 79, 97]\n"
          ],
          "name": "stdout"
        }
      ]
    },
    {
      "cell_type": "code",
      "metadata": {
        "id": "wEXcqpHLjeLj",
        "colab": {
          "base_uri": "https://localhost:8080/"
        },
        "outputId": "adb6a093-f734-4241-b015-d0fafc680a82"
      },
      "source": [
        "#The solution with functions using list comprehensions (read on for the explanation)\n",
        "\n",
        "from google.colab import drive\n",
        "drive.mount('/content/drive')\n",
        "file_name_primenumbers = '/content/drive/MyDrive/Practic Python/primenumbers.txt'\n",
        "file_name_happynumbers = '/content/drive/MyDrive/Practic Python/happynumbers.txt'\n",
        "\n",
        "def filetolistofints(filename):\n",
        "    list_to_return = []\n",
        "    with open(filename) as f:\n",
        "      line = f.readline() \n",
        "      while line:\n",
        "        if line==\"\\n\":\n",
        "          break\n",
        "        list_to_return.append(int(line))\n",
        "        line = f.readline()\n",
        "    return list_to_return\n",
        "\n",
        "primeslist = filetolistofints(file_name_primenumbers)\n",
        "happieslist = filetolistofints(file_name_happynumbers)\n",
        "\n",
        "overlaplist = [elem for elem in primeslist if elem in happieslist]\n",
        "print(overlaplist)"
      ],
      "execution_count": null,
      "outputs": [
        {
          "output_type": "stream",
          "text": [
            "Drive already mounted at /content/drive; to attempt to forcibly remount, call drive.mount(\"/content/drive\", force_remount=True).\n",
            "[7, 13, 19, 23, 31, 79, 97]\n"
          ],
          "name": "stdout"
        }
      ]
    },
    {
      "cell_type": "markdown",
      "metadata": {
        "id": "egabH6y3jYjL"
      },
      "source": [
        "**Exercise 24 (Draw A Game Board )** **\n",
        "\n",
        "\n",
        "---\n",
        "\n",
        "\n",
        "\n",
        "---\n",
        "\n",
        "This exercise is Part 1 of 4 of the Tic Tac Toe exercise series.\n",
        "\n",
        " The other exercises are: Part 2, Part 3, and Part 4.\n",
        "\n",
        "Time for some fake graphics! Let’s say we want to draw game boards that look like this:\n",
        "\n",
        "\n",
        " --- --- --- \n",
        "|   |   |   | \n",
        " --- --- ---  \n",
        "|   |   |   | \n",
        " --- --- ---  \n",
        "|   |   |   | \n",
        " --- --- --- \n",
        "\n",
        "This one is 3x3 (like in tic tac toe).\n",
        "\n",
        " Obviously, they come in many other sizes (8x8 for chess, 19x19 for Go, and many more).\n",
        "\n",
        "\n",
        "Ask the user what size game board they want to draw, and draw it for them to the screen using Python’s print statement.\n",
        "\n",
        "\n",
        "Remember that in Python 3, printing to the screen is accomplished by\n",
        "\n",
        "  print(\"Thing to show on screen\")\n",
        "\n",
        "  \n",
        "Hint: this requires some use of functions, as were discussed previously on this blog and elsewhere on the Internet, like this TutorialsPoint link.)"
      ]
    },
    {
      "cell_type": "code",
      "metadata": {
        "id": "1_ZhorSwj7Du",
        "colab": {
          "base_uri": "https://localhost:8080/"
        },
        "outputId": "e51823b4-366b-4e5a-b585-29542bc0bfaa"
      },
      "source": [
        "board_size = int(input(\"What size of game board? \"))\n",
        "for index in range(board_size):\n",
        "      print(\" --- \" * board_size)\n",
        "      print(\"|    \" * (board_size + 1))\n",
        "print(\" ---  \" * board_size)"
      ],
      "execution_count": null,
      "outputs": [
        {
          "output_type": "stream",
          "text": [
            "What size of game board? 3\n",
            " ---  ---  --- \n",
            "|    |    |    |    \n",
            " ---  ---  --- \n",
            "|    |    |    |    \n",
            " ---  ---  --- \n",
            "|    |    |    |    \n",
            " ---   ---   ---  \n"
          ],
          "name": "stdout"
        }
      ]
    },
    {
      "cell_type": "markdown",
      "metadata": {
        "id": "tmAbdcbzp16X"
      },
      "source": [
        "**Exercise 25 (Guessing Game Two  )** ***\n",
        "\n",
        "\n",
        "---\n",
        "\n",
        "\n",
        "\n",
        "---\n",
        "\n",
        "In a previous exercise, we’ve written a program that “knows” a number and asks a user to guess it.\n",
        "\n",
        "This time, we’re going to do exactly the opposite. You, the user, will have in your head a number between 0 and 100. The program will guess a number, and you, the user, will say whether it is too high, too low, or your number.\n",
        "\n",
        "At the end of this exchange, your program should print out how many guesses it took to get your number.\n",
        "\n",
        "As the writer of this program, you will have to choose how your program will strategically guess. A naive strategy can be to simply start the guessing at 1, and keep going (2, 3, 4, etc.) until you hit the number. But that’s not an optimal guessing strategy. An alternate strategy might be to guess 50 (right in the middle of the range), and then increase / decrease by 1 as needed. After you’ve written the program, try to find the optimal strategy! (We’ll talk about what is the optimal one next week with the solution.)"
      ]
    },
    {
      "cell_type": "code",
      "metadata": {
        "colab": {
          "base_uri": "https://localhost:8080/"
        },
        "id": "p6-7VI3w05LQ",
        "outputId": "d1171c40-5a11-47a0-9b76-e6f14fa59236"
      },
      "source": [
        "\n",
        "Min = 0\n",
        "Max = 100\n",
        "print('Please keep a number between 0 and 100 in your mind!')\n",
        "while True:\n",
        "    guess = (Min + Max)//2\n",
        "    print('Is your memorize number ' + str(guess) + ' ?')\n",
        "    user_Guide_num =int(input(\"If your chosen number is too low, please enter 1, if it is  too high, please enter 2, and if I guessed correctly, enter 0: \"))\n",
        "    if user_Guide_num == 0:\n",
        "        print('Game over. Your memorize number was:', str(guess))\n",
        "        break\n",
        "    elif user_Guide_num == 1:\n",
        "        Min = guess\n",
        "    elif user_Guide_num == 2:\n",
        "        Max = guess\n",
        "    else:\n",
        "        print('Your input number is incorrect.')"
      ],
      "execution_count": null,
      "outputs": [
        {
          "output_type": "stream",
          "text": [
            "Please keep a number between 0 and 100 in your mind!\n",
            "Is your memorize number 50 ?\n",
            "If your chosen number is too low, please enter 1, if it is  too high, please enter 2, and if I guessed correctly, enter 0.: 2\n",
            "Is your memorize number 25 ?\n",
            "If your chosen number is too low, please enter 1, if it is  too high, please enter 2, and if I guessed correctly, enter 0.: 1\n",
            "Is your memorize number 37 ?\n",
            "If your chosen number is too low, please enter 1, if it is  too high, please enter 2, and if I guessed correctly, enter 0.: 0\n",
            "Game over. Your memorize number was: 37\n"
          ],
          "name": "stdout"
        }
      ]
    },
    {
      "cell_type": "markdown",
      "metadata": {
        "id": "ADwFiYgIJ6tW"
      },
      "source": [
        ""
      ]
    },
    {
      "cell_type": "markdown",
      "metadata": {
        "id": "ozXiOJ5GJ8wG"
      },
      "source": [
        "**Exercise 26 (Check Tic Tac Toe  )** **\n",
        "\n",
        "\n",
        "---\n",
        "\n",
        "\n",
        "\n",
        "---\n",
        "\n",
        "This exercise is Part 2 of 4 of the Tic Tac Toe exercise series. The other exercises are: Part 1, Part 3, and Part 4.\n",
        "\n",
        "As you may have guessed, we are trying to build up to a full tic-tac-toe board. However, this is significantly more than half an hour of coding, so we’re doing it in pieces.\n",
        "\n",
        "Today, we will simply focus on checking whether someone has WON a game of Tic Tac Toe, not worrying about how the moves were made.\n",
        "\n",
        "If a game of Tic Tac Toe is represented as a list of lists, like so:\n",
        "\n",
        "game = [[1, 2, 0],\n",
        "\t[2, 1, 0],\n",
        "\t[2, 1, 1]]\n",
        "where a 0 means an empty square, a 1 means that player 1 put their token in that space, and a 2 means that player 2 put their token in that space.\n",
        "\n",
        "Your task this week: given a 3 by 3 list of lists that represents a Tic Tac Toe game board, tell me whether anyone has won, and tell me which player won, if any. A Tic Tac Toe win is 3 in a row - either in a row, a column, or a diagonal. Don’t worry about the case where TWO people have won - assume that in every board there will only be one winner.\n",
        "\n",
        "Here are some more examples to work with:\n",
        "\n",
        "winner_is_2 = [[2, 2, 0],\n",
        "\t[2, 1, 0],\n",
        "\t[2, 1, 1]]\n",
        "\n",
        "winner_is_1 = [[1, 2, 0],\n",
        "\t[2, 1, 0],\n",
        "\t[2, 1, 1]]\n",
        "\n",
        "winner_is_also_1 = [[0, 1, 0],\n",
        "\t[2, 1, 0],\n",
        "\t[2, 1, 1]]\n",
        "\n",
        "no_winner = [[1, 2, 0],\n",
        "\t[2, 1, 0],\n",
        "\t[2, 1, 2]]\n",
        "\n",
        "also_no_winner = [[1, 2, 0],\n",
        "\t[2, 1, 0],\n",
        "\t[2, 1, 0]]"
      ]
    },
    {
      "cell_type": "code",
      "metadata": {
        "colab": {
          "base_uri": "https://localhost:8080/"
        },
        "id": "tG-wKcpSiEOG",
        "outputId": "7487a01d-e8eb-47c3-b2ad-002710cd09be"
      },
      "source": [
        "def checkBoard(board):\n",
        "\t# rows\n",
        "\tfor u in range(0,3):\n",
        "\t\tif board[u][0] == board[u][0] == board[u][2] and board[u][0] != 0:\n",
        "\t\t\treturn board[u][0]\n",
        "\n",
        "\t# columns\n",
        "\tfor v in range(0,3):\n",
        "\t\tif board[0][v] == board[1][v] == board[2][v] and board[0][v] != 0:\n",
        "\t\t\treturn board[0][v]\n",
        "\n",
        "\t# diagonals\n",
        "\tif board[0][0] == board[1][1] == board[2][2] or board[0][2] == board[1][1]== board[2][0] and board[1][1] != 0:\n",
        "\t\treturn board[1][1]\n",
        "\n",
        "board = [[1, 2, 0],\n",
        "\t       [2, 1, 0],\n",
        "\t       [2, 1, 1]]\n",
        "checkBoard(board)\n"
      ],
      "execution_count": null,
      "outputs": [
        {
          "output_type": "execute_result",
          "data": {
            "text/plain": [
              "1"
            ]
          },
          "metadata": {
            "tags": []
          },
          "execution_count": 38
        }
      ]
    },
    {
      "cell_type": "markdown",
      "metadata": {
        "id": "nen00gSuVpyq"
      },
      "source": [
        "**Exercise 27 (Tic Tac Toe Draw  )** **\n",
        "\n",
        "\n",
        "---\n",
        "\n",
        "\n",
        "\n",
        "---\n",
        "\n",
        "This exercise is Part 3 of 4 of the Tic Tac Toe exercise series. The other exercises are: Part 1, Part 2, and Part 4.\n",
        "\n",
        "In a previous exercise we explored the idea of using a list of lists as a “data structure” to store information about a tic tac toe game. In a tic tac toe game, the “game server” needs to know where the Xs and Os are in the board, to know whether player 1 or player 2 (or whoever is X and O won).\n",
        "\n",
        "There has also been an exercise about drawing the actual tic tac toe gameboard using text characters.\n",
        "\n",
        "The next logical step is to deal with handling user input. When a player (say player 1, who is X) wants to place an X on the screen, they can’t just click on a terminal. So we are going to approximate this clicking simply by asking the user for a coordinate of where they want to place their piece.\n",
        "\n",
        "As a reminder, our tic tac toe game is really a list of lists. The game starts out with an empty game board like this:\n",
        "\n",
        "game = [[0, 0, 0],\n",
        "\t[0, 0, 0],\n",
        "\t[0, 0, 0]]\n",
        "The computer asks Player 1 (X) what their move is (in the format row,col), and say they type 1,3. Then the game would print out\n",
        "\n",
        "game = [[0, 0, X],\n",
        "\t[0, 0, 0],\n",
        "\t[0, 0, 0]]\n",
        "And ask Player 2 for their move, printing an O in that place.\n",
        "\n",
        "Things to note:\n",
        "\n",
        "For this exercise, assume that player 1 (the first player to move) will always be X and player 2 (the second player) will always be O.\n",
        "Notice how in the example I gave coordinates for where I want to move starting from (1, 1) instead of (0, 0). To people who don’t program, starting to count at 0 is a strange concept, so it is better for the user experience if the row counts and column counts start at 1. This is not required, but whichever way you choose to implement this, it should be explained to the player.\n",
        "Ask the user to enter coordinates in the form “row,col” - a number, then a comma, then a number. Then you can use your Python skills to figure out which row and column they want their piece to be in.\n",
        "Don’t worry about checking whether someone won the game, but if a player tries to put a piece in a game position where there already is another piece, do not allow the piece to go there.\n",
        "Bonus:\n",
        "\n",
        "For the “standard” exercise, don’t worry about “ending” the game - no need to keep track of how many squares are full. In a bonus version, keep track of how many squares are full and automatically stop asking for moves when there are no more valid moves."
      ]
    },
    {
      "cell_type": "code",
      "metadata": {
        "colab": {
          "base_uri": "https://localhost:8080/",
          "height": 248
        },
        "id": "dlHS-GoqVhGi",
        "outputId": "5acc9987-2bad-4bb7-e4d8-b4a5f735aea5"
      },
      "source": [
        "\n",
        "# initialise the game board\n",
        "gameboard = [(['.']*3) for i in range(3)]\n",
        "\n",
        "# variables for input and turn count\n",
        "row_col = [0]\n",
        "turn = 1\n",
        "\n",
        "# checks that the input is valid \n",
        "# - that it is in the format \"row,col\"\n",
        "# - that the position is free\n",
        "def input_valid(values):\n",
        "\t# input has only two values\n",
        "    if len(values) != 2:\n",
        "        print(\"Input must be two numbers in format row,col e.g.  1,2 \")\n",
        "        return 0\n",
        "    # input is a number between 1 and 3 (inclusive)\n",
        "    try:\n",
        "        if (1 <= int(values[0]) <= 3) and (1 <= int(values[1]) <= 3):\n",
        "            # checks if the position on the board is alreay filled\n",
        "            if gameboard[int(values[0])-1][int(values[1])-1] != '.':\n",
        "                print(\"Position on board already taken.\")\n",
        "                return 0\n",
        "            return 1\n",
        "        else:\n",
        "            print(\"Input values must be numbers between 1 and 3 (inclusive)\")\n",
        "            return 0\n",
        "    except ValueError:\n",
        "        print(\"Input values must be numbers between 1 and 3 (inclusive)\")\n",
        "        return 0\n",
        "\n",
        "\n",
        "# draw the board\n",
        "def draw_board(values, player):\n",
        "    # changes the value to X or O\n",
        "    gameboard[int(values[0])-1][int(values[1])-1]=player\n",
        "\n",
        "    # print the gameboard\n",
        "    for row in gameboard:\n",
        "      print(row)\n",
        "\n",
        "# calculate if game is over (no more '.' or has winner)\n",
        "def game_over():\n",
        "    searcht = '.'\n",
        "    \n",
        "    # check win by row\n",
        "    for i in range(3):\n",
        "        if len(set(gameboard[i])) == 1:\n",
        "            if gameboard[i][1] == '.':\n",
        "                continue\n",
        "            elif gameboard[i][1] == 'X':\n",
        "                print(\"Game over - Player 1 wins\")\n",
        "            #elif gameboard[i][1] == 'O':\n",
        "            else:\n",
        "                print(\"Game over - Player 2 wins\")\n",
        "            return 1\n",
        "\n",
        "    # check win by column\n",
        "    for i in range(3):\n",
        "        if gameboard[0][i] == gameboard[1][i] == gameboard[2][i]:\n",
        "            if gameboard[0][i] == '.':\n",
        "                continue\n",
        "            elif gameboard[0][i] == 'X':\n",
        "                print(\"Game over - Player 1 wins\")\n",
        "            else:\n",
        "                print(\"Game over - Player 2 wins\")\n",
        "            return 1\n",
        "\n",
        "    # check win by diagonal\n",
        "    if (gameboard[0][0] == gameboard[1][1] == gameboard[2][2]) or (gameboard[0][2] == gameboard[1][1] == gameboard[2][0]): \n",
        "        if gameboard[1][1] == 'X':\n",
        "            print(\"Game over - Player 1 wins\")\n",
        "        elif gameboard[1][1] == 'O':\n",
        "            print(\"Game over - Player 2 wins\")\n",
        "        else:\n",
        "            return 0\n",
        "        return 1\n",
        "\n",
        "    # check board is full\n",
        "    for sublist in gameboard:\n",
        "        if searcht in sublist:\n",
        "            return 0\n",
        "\n",
        "    print(\"Game over - the board is filled\")\n",
        "    return 1\n",
        "\n",
        "\n",
        "\n",
        "\n",
        "# main function that runs the game while board is not full\n",
        "while not game_over():\n",
        "    piece = '.'\n",
        "\n",
        "    # Player input - checks for input correctness\n",
        "    while not input_valid(row_col):\n",
        "        player = turn % 2\n",
        "        if player == 0:\n",
        "         \tplayer = 2\n",
        "        #piece = 'O'\n",
        "        else:\n",
        "            piece = 'X'\n",
        "        p1 = raw_input('Player ' + str(player) +' input: ')\n",
        "        row_col = p1.split(\",\")\n",
        "\n",
        "    draw_board(row_col, piece)\n",
        "\n",
        "    row_col = [0]\n",
        "    turn += 1\n"
      ],
      "execution_count": null,
      "outputs": [
        {
          "output_type": "stream",
          "text": [
            "Input must be two numbers in format row,col e.g.  1,2 \n"
          ],
          "name": "stdout"
        },
        {
          "output_type": "error",
          "ename": "NameError",
          "evalue": "ignored",
          "traceback": [
            "\u001b[0;31m---------------------------------------------------------------------------\u001b[0m",
            "\u001b[0;31mNameError\u001b[0m                                 Traceback (most recent call last)",
            "\u001b[0;32m<ipython-input-30-3f4a44097b1c>\u001b[0m in \u001b[0;36m<module>\u001b[0;34m()\u001b[0m\n\u001b[1;32m    100\u001b[0m         \u001b[0;32melse\u001b[0m\u001b[0;34m:\u001b[0m\u001b[0;34m\u001b[0m\u001b[0;34m\u001b[0m\u001b[0m\n\u001b[1;32m    101\u001b[0m             \u001b[0mpiece\u001b[0m \u001b[0;34m=\u001b[0m \u001b[0;34m'X'\u001b[0m\u001b[0;34m\u001b[0m\u001b[0;34m\u001b[0m\u001b[0m\n\u001b[0;32m--> 102\u001b[0;31m         \u001b[0mp1\u001b[0m \u001b[0;34m=\u001b[0m \u001b[0mraw_input\u001b[0m\u001b[0;34m(\u001b[0m\u001b[0;34m'Player '\u001b[0m \u001b[0;34m+\u001b[0m \u001b[0mstr\u001b[0m\u001b[0;34m(\u001b[0m\u001b[0mplayer\u001b[0m\u001b[0;34m)\u001b[0m \u001b[0;34m+\u001b[0m\u001b[0;34m' input: '\u001b[0m\u001b[0;34m)\u001b[0m\u001b[0;34m\u001b[0m\u001b[0;34m\u001b[0m\u001b[0m\n\u001b[0m\u001b[1;32m    103\u001b[0m         \u001b[0mrow_col\u001b[0m \u001b[0;34m=\u001b[0m \u001b[0mp1\u001b[0m\u001b[0;34m.\u001b[0m\u001b[0msplit\u001b[0m\u001b[0;34m(\u001b[0m\u001b[0;34m\",\"\u001b[0m\u001b[0;34m)\u001b[0m\u001b[0;34m\u001b[0m\u001b[0;34m\u001b[0m\u001b[0m\n\u001b[1;32m    104\u001b[0m \u001b[0;34m\u001b[0m\u001b[0m\n",
            "\u001b[0;31mNameError\u001b[0m: name 'raw_input' is not defined"
          ]
        }
      ]
    },
    {
      "cell_type": "markdown",
      "metadata": {
        "id": "QOaRT8gVlISl"
      },
      "source": [
        "**Exercise 28 (Max Of Three  )** *\n",
        "\n",
        "\n",
        "---\n",
        "\n",
        "\n",
        "\n",
        "---\n",
        "\n",
        "Implement a function that takes as input three variables, and returns the largest of the three. \n",
        "\n",
        "Do this without using the Python max() function!\n",
        "\n",
        "The goal of this exercise is to think about some internals that Python normally takes care of for us.\n",
        "\n",
        " All you need is some variables and if statements!"
      ]
    },
    {
      "cell_type": "code",
      "metadata": {
        "colab": {
          "base_uri": "https://localhost:8080/"
        },
        "id": "iJU-dZsqlMPL",
        "outputId": "42cbde57-b8a1-427a-845c-48f680d1ebd1"
      },
      "source": [
        "def max_function(x,y,z):\n",
        "     Max=0\n",
        "     if x>y:\n",
        "         if x>z:\n",
        "             Max=x\n",
        "         else:\n",
        "             Max=z\n",
        "     else:\n",
        "          if y>z:\n",
        "             Max=y\n",
        "          else:\n",
        "             Max=z\n",
        "     return Max\n",
        "\n",
        "max_function(88,44,22)"
      ],
      "execution_count": null,
      "outputs": [
        {
          "output_type": "execute_result",
          "data": {
            "text/plain": [
              "88"
            ]
          },
          "metadata": {
            "tags": []
          },
          "execution_count": 51
        }
      ]
    },
    {
      "cell_type": "markdown",
      "metadata": {
        "id": "NM_GmOQWlOGr"
      },
      "source": [
        "**Exercise 29 (Tic Tac Toe Game  )** ***\n",
        "\n",
        "\n",
        "---\n",
        "\n",
        "\n",
        "\n",
        "---\n",
        "\n",
        "This exercise is Part 4 of 4 of the Tic Tac Toe exercise series. \n",
        "\n",
        "The other exercises are: Part 1, Part 2, and Part 3.\n",
        "\n",
        "In 3 previous exercises, we built up a few components needed to build a Tic Tac Toe game in Python:\n",
        "\n",
        "Exercise 24: Draw the Tic Tac Toe game board\n",
        "\n",
        "Exercise 26: Checking whether a game board has a winner\n",
        "\n",
        "Exercise 27: Handle a player move from user input\n",
        "\n",
        "The next step is to put all these three components together to make a two-player Tic Tac Toe game!\n",
        "\n",
        " Your challenge in this exercise is to use the functions from those previous exercises all together in the same program to make a two-player game that you can play with a friend.\n",
        " \n",
        "  There are a lot of choices you will have to make when completing this exercise, so you can go as far or as little as you want with it.\n",
        "\n",
        "Here are a few things to keep in mind:\n",
        "\n",
        "You should keep track of who won - if there is a winner, show a congratulatory message on the screen.\n",
        "\n",
        "If there are no more moves left, don’t ask for the next player’s move!\n",
        "\n",
        "As a bonus, you can ask the players if they want to play again and keep a running tally of who won more - Player 1 or Player 2.\n",
        "\n"
      ]
    },
    {
      "cell_type": "code",
      "metadata": {
        "colab": {
          "base_uri": "https://localhost:8080/"
        },
        "id": "hFqTDJiAgTuP",
        "outputId": "6802b06d-8fd7-40d7-97d0-3f47b76282b4"
      },
      "source": [
        "def draw_line(width, edge, filling):\n",
        "\tprint(filling.join([edge] * (width + 1)))\n",
        "\n",
        "\n",
        "def display_winner(player):\n",
        "\tif player == 0:\n",
        "\t\tprint(\"Tie\")\n",
        "\telse:\n",
        "\t\tprint(\"Player \" + str(player) + \" wins!\")\n",
        "\n",
        "def check_row_winner(row):\n",
        "\t\"\"\"\n",
        "\tReturn the player number that wins for that row.\n",
        "\tIf there is no winner, return 0.\n",
        "\t\"\"\"\n",
        "\tif row[0] == row[1] and row[1] == row[2]:\n",
        "\t\treturn row[0]\n",
        "\treturn 0\n",
        "\n",
        "def get_col(game, col_number):\n",
        "\treturn [game[x][col_number] for x in range(3)]\n",
        "\n",
        "def get_row(game, row_number):\n",
        "\treturn game[row_number]\n",
        "\n",
        "def check_winner(game):\n",
        "\tgame_slices = []\n",
        "\tfor index in range(3):\n",
        "\t\tgame_slices.append(get_row(game, index))\n",
        "\t\tgame_slices.append(get_col(game, index))\n",
        "\n",
        "\t# check diagonals\n",
        "\tdown_diagonal = [game[x][x] for x in range(3)]\n",
        "\tup_diagonal = [game[0][2], game[1][1], game[2][0]]\n",
        "\tgame_slices.append(down_diagonal)\n",
        "\tgame_slices.append(up_diagonal)\n",
        "\n",
        "\tfor game_slice in game_slices:\n",
        "\t\twinner = check_row_winner(game_slice)\n",
        "\t\tif winner != 0:\n",
        "\t\t\treturn winner\n",
        "\n",
        "\treturn winner\n",
        "\n",
        "def start_game():\n",
        "\treturn [[0, 0, 0] for x in range(3)]\n",
        "\n",
        "def display_game(game):\n",
        "\td = {2: \"O\", 1: \"X\", 0: \"_\"}\n",
        "\tdraw_line(3, \" \", \"_\")\n",
        "\tfor row_num in range(3):\n",
        "\t\tnew_row = []\n",
        "\t\tfor col_num in range(3):\n",
        "\t\t\tnew_row.append(d[game[row_num][col_num]])\n",
        "\t\tprint(\"|\" + \"|\".join(new_row) + \"|\")\n",
        "\n",
        "\n",
        "def add_piece(game, player, row, column):\n",
        "\t\"\"\"\n",
        "\tgame: game state\n",
        "\tplayer: player number\n",
        "\trow: 0-index row\n",
        "\tcolumn: 0-index column\n",
        "\t\"\"\"\n",
        "\tgame[row][column] = player\n",
        "\treturn game\n",
        "\n",
        "def check_space_empty(game, row, column):\n",
        "\treturn game[row][column] == 0\n",
        "\n",
        "def convert_input_to_coordinate(user_input):\n",
        "\treturn user_input - 1\n",
        "\n",
        "def switch_player(player):\n",
        "\tif player == 1:\n",
        "\t\treturn 2\n",
        "\telse:\n",
        "\t\treturn 1\n",
        "\n",
        "def moves_exist(game):\n",
        "\tfor row_num in range(3):\n",
        "\t\tfor col_num in range(3):\n",
        "\t\t\tif game[row_num][col_num] == 0:\n",
        "\t\t\t\treturn True\n",
        "\treturn False\n",
        "\n",
        "if __name__ == '__main__':\n",
        "\tgame = start_game()\n",
        "\tdisplay_game(game)\n",
        "\tplayer = 1\n",
        "\twinner = 0  # the winner is not yet defined\n",
        "\n",
        "\t# go on forever\n",
        "\twhile winner == 0 and moves_exist(game):\n",
        "\t\tprint(\"Currently player: \" + str(player))\n",
        "\t\tavailable = False\n",
        "\t\twhile not available:\n",
        "\t\t\trow = convert_input_to_coordinate(int(input(\"Which row? (start with 1) \")))\n",
        "\t\t\tcolumn = convert_input_to_coordinate(int(input(\"Which column? (start with 1) \")))\n",
        "\t\t\tavailable = check_space_empty(game, row, column)\n",
        "\t\tgame = add_piece(game, player, row, column)\n",
        "\t\tdisplay_game(game)\n",
        "\t\tplayer = switch_player(player)\n",
        "\t\twinner = check_winner(game)\n",
        "\tdisplay_winner(winner)"
      ],
      "execution_count": null,
      "outputs": [
        {
          "output_type": "stream",
          "text": [
            " _ _ _ \n",
            "|_|_|_|\n",
            "|_|_|_|\n",
            "|_|_|_|\n",
            "Currently player: 1\n",
            "Which row? (start with 1) 2\n",
            "Which column? (start with 1) 2\n",
            " _ _ _ \n",
            "|_|_|_|\n",
            "|_|X|_|\n",
            "|_|_|_|\n",
            "Currently player: 2\n",
            "Which row? (start with 1) 1\n",
            "Which column? (start with 1) 2\n",
            " _ _ _ \n",
            "|_|O|_|\n",
            "|_|X|_|\n",
            "|_|_|_|\n",
            "Currently player: 1\n",
            "Which row? (start with 1) 3\n",
            "Which column? (start with 1) 1\n",
            " _ _ _ \n",
            "|_|O|_|\n",
            "|_|X|_|\n",
            "|X|_|_|\n",
            "Currently player: 2\n",
            "Which row? (start with 1) 3\n",
            "Which column? (start with 1) 3\n",
            " _ _ _ \n",
            "|_|O|_|\n",
            "|_|X|_|\n",
            "|X|_|O|\n",
            "Currently player: 1\n",
            "Which row? (start with 1) 1\n",
            "Which column? (start with 1) 3\n",
            " _ _ _ \n",
            "|_|O|X|\n",
            "|_|X|_|\n",
            "|X|_|O|\n",
            "Player 1 wins!\n"
          ],
          "name": "stdout"
        }
      ]
    },
    {
      "cell_type": "markdown",
      "metadata": {
        "id": "QnfKR33FE3H-"
      },
      "source": [
        "**Exercise 30 (Pick Word  )** **\n",
        "\n",
        "\n",
        "---\n",
        "\n",
        "\n",
        "\n",
        "---\n",
        "\n",
        "This exercise is Part 1 of 3 of the Hangman exercise series.\n",
        "\n",
        " The other exercises are: Part 2 and Part 3.\n",
        "\n",
        "In this exercise, the task is to write a function that picks a random word from a list of words from the SOWPODS dictionary. \n",
        "\n",
        "Download this file and save it in the same directory as your Python code. \n",
        "\n",
        "This file is Peter Norvig’s compilation of the dictionary of words used in professional Scrabble tournaments. \n",
        "\n",
        "Each line in the file contains a single word.\n",
        "\n",
        "Hint: use the Python random library for picking a random word."
      ]
    },
    {
      "cell_type": "code",
      "metadata": {
        "colab": {
          "base_uri": "https://localhost:8080/"
        },
        "id": "XMmVMeiVE6wf",
        "outputId": "5b4bef12-72ef-4697-db59-1aed1fa3138b"
      },
      "source": [
        "from google.colab import drive\n",
        "drive.mount('/content/drive')\n",
        "file_name_SOWPODS_dictionary = '/content/drive/MyDrive/Practic Python/SOWPODSdictionary.txt'\n",
        "\n",
        "import random\n",
        "with open(file_name_SOWPODS_dictionary , \"r\") as f:\n",
        "\twords = list(f)\n",
        "print(random.choice(words).strip())"
      ],
      "execution_count": null,
      "outputs": [
        {
          "output_type": "stream",
          "text": [
            "Drive already mounted at /content/drive; to attempt to forcibly remount, call drive.mount(\"/content/drive\", force_remount=True).\n",
            "OBVENTION\n"
          ],
          "name": "stdout"
        }
      ]
    },
    {
      "cell_type": "markdown",
      "metadata": {
        "id": "Z2O1wnW4E0r_"
      },
      "source": [
        "**Exercise 31 (Guess Letters )** **\n",
        "\n",
        "\n",
        "---\n",
        "\n",
        "\n",
        "\n",
        "---\n",
        "\n",
        "This exercise is Part 2 of 3 of the Hangman exercise series.\n",
        "\n",
        " The other exercises are: Part 1 and Part 3.\n",
        "\n",
        "Let’s continue building Hangman.\n",
        "\n",
        " In the game of Hangman, a clue word is given by the program that the player has to guess, letter by letter. \n",
        "\n",
        "The player guesses one letter at a time until the entire word has been guessed.\n",
        "\n",
        " (In the actual game, the player can only guess 6 letters incorrectly before losing).\n",
        "\n",
        "Let’s say the word the player has to guess is “EVAPORATE”.\n",
        "\n",
        " For this exercise, write the logic that asks a player to guess a letter and displays letters in the clue word that were guessed correctly.\n",
        " \n",
        "  For now, let the player guess an infinite number of times until they get the entire word. As a bonus, keep track of the letters the player guessed and display a different message if the player tries to guess that letter again.\n",
        "  \n",
        "   Remember to stop the game when all the letters have been guessed correctly! Don’t worry about choosing a word randomly or keeping track of the number of guesses the player has remaining - we will deal with those in a future exercise.\n",
        "\n",
        "An example interaction can look like this:\n",
        "\n",
        "\n",
        ">>> Welcome to Hangman!\n",
        "\n",
        "_ _ _ _ _ _ _ _ _\n",
        ">>> Guess your letter: S\n",
        "\n",
        "Incorrect!\n",
        "\n",
        ">>> Guess your letter: E\n",
        "\n",
        "\n",
        "E _ _ _ _ _ _ _ E\n",
        "...\n",
        "And so on, until the player gets the word."
      ]
    },
    {
      "cell_type": "code",
      "metadata": {
        "id": "k2mdpc2WGCc4",
        "colab": {
          "base_uri": "https://localhost:8080/"
        },
        "outputId": "d673bad5-f260-4b00-aa55-d1fb8ee39488"
      },
      "source": [
        "if __name__ == '__main__':\n",
        "\tprint(\"Welcome to hangman!!\")\n",
        "\tword = \"SEE\"\n",
        "\tguessed = \"_\" * len(word)\n",
        "\tword = list(word)\n",
        "\tguessed = list(guessed)\n",
        "\tlstGuessed = []\n",
        "\tletter = input(\"guess letter: \")\n",
        "\twhile True:\n",
        "\t\tif letter.upper() in lstGuessed:\n",
        "\t\t\tletter = ''\n",
        "\t\t\tprint(\"Already guessed!!\")\n",
        "\t\telif letter.upper() in word:\n",
        "\t\t\tindex = word.index(letter.upper())\n",
        "\t\t\tguessed[index] = letter.upper()\n",
        "\t\t\tword[index] = '_'\n",
        "\t\telse:\n",
        "\t\t\tprint(''.join(guessed))\n",
        "\t\t\tif letter is not '':\n",
        "\t\t\t\tlstGuessed.append(letter.upper())\n",
        "\t\t\tletter = input(\"guess letter: \")\n",
        "\n",
        "\t\tif '_' not in guessed:\n",
        "\t\t\tprint(\"You won!!\")\n",
        "\t\t\tbreak"
      ],
      "execution_count": null,
      "outputs": [
        {
          "output_type": "stream",
          "text": [
            "Welcome to hangman!!\n",
            "guess letter: s\n",
            "S__\n",
            "guess letter: e\n",
            "You won!!\n"
          ],
          "name": "stdout"
        }
      ]
    },
    {
      "cell_type": "markdown",
      "metadata": {
        "id": "RkeWeKf6A-FI"
      },
      "source": [
        "**Exercise 32 (Hangman )** **\n",
        "\n",
        "\n",
        "---\n",
        "\n",
        "\n",
        "\n",
        "---\n",
        "\n",
        "This exercise is Part 3 of 3 of the Hangman exercise series. \n",
        "\n",
        "The other exercises are: Part 1 and Part 2.\n",
        "\n",
        "You can start your Python journey anywhere, but to finish this exercise you will have to have finished Parts 1 and 2 or use the solutions \n",
        "\n",
        "(Part 1 and Part 2).\n",
        "\n",
        "In this exercise, we will finish building Hangman. \n",
        "\n",
        "In the game of Hangman, the player only has 6 incorrect guesses (head, body, 2 legs, and 2 arms) before they lose the game.\n",
        "\n",
        "In Part 1, we loaded a random word list and picked a word from it. \n",
        "\n",
        "In Part 2, we wrote the logic for guessing the letter and displaying that information to the user. \n",
        "\n",
        "In this exercise, we have to put it all together and add logic for handling guesses.\n",
        "\n",
        "Copy your code from Parts 1 and 2 into a new file as a starting point. Now add the following features:\n",
        "\n",
        "Only let the user guess 6 times, and tell the user how many guesses they have left.\n",
        "Keep track of the letters the user guessed. If the user guesses a letter they already guessed, don’t penalize them - let them guess again.\n",
        "Optional additions:\n",
        "\n",
        "When the player wins or loses, let them start a new game.\n",
        "Rather than telling the user \"You have 4 incorrect guesses left\", display some picture art for the Hangman. This is challenging - do the other parts of the exercise first!\n",
        "Your solution will be a lot cleaner if you make use of functions to help you!"
      ]
    },
    {
      "cell_type": "code",
      "metadata": {
        "id": "sCnrxR80Bs23",
        "colab": {
          "base_uri": "https://localhost:8080/"
        },
        "outputId": "42f672ec-f2a1-4f90-cfd4-f37970904f8c"
      },
      "source": [
        "import random\n",
        "from google.colab import drive\n",
        "drive.mount('/content/drive')\n",
        "file_name_SOWPODS_dictionary = '/content/drive/MyDrive/Practic Python/SOWPODSdictionary.txt'\n",
        "\n",
        "def choose_random_word():\n",
        "    words=[]\n",
        "    with open(file_name_SOWPODS_dictionary, 'r') as file:\n",
        "        line = file.readline()\n",
        "        while line:\n",
        "            words.append(line.replace(\"\\n\",\"\".strip()))\n",
        "            line = file.readline()\n",
        "    choice=words[random.randint(0,len(words)-1)]\n",
        "    return choice\n",
        "\n",
        "\n",
        "\n",
        "\n",
        "\n",
        "print(\"Welcome to Hangman!\")\n",
        "secret_word=choose_random_word()\n",
        "dashes=list(secret_word)\n",
        "display_list=[]\n",
        "for i in dashes:\n",
        "    display_list.append(\"_\")\n",
        "count=len(secret_word)\n",
        "guesses=0\n",
        "letter = 0\n",
        "used_list=[]\n",
        "while count != 0 and letter != \"exit\":\n",
        "    print(\" \".join(display_list))\n",
        "    letter=input(\"Guess your letter: \")\n",
        "\n",
        "    if letter.upper() in used_list:\n",
        "        print(\"Oops! Already guessed that letter.\")\n",
        "    else:\n",
        "        for i in range(0,len(secret_word)):\n",
        "            if letter.upper() == secret_word[i]:\n",
        "                display_list[i]=letter.upper()\n",
        "                count -= 1\n",
        "        guesses +=1\n",
        "    used_list.append(letter.upper())\n",
        "\n",
        "if letter == \"exit\":\n",
        "    print(\"Thanks!\")\n",
        "else:\n",
        "    print(\" \".join(display_list))\n",
        "    print(\"Good job! You figured that the word is \"+secret_word+\" after guessing %s letters!\" % guesses)"
      ],
      "execution_count": null,
      "outputs": [
        {
          "output_type": "stream",
          "text": [
            "Drive already mounted at /content/drive; to attempt to forcibly remount, call drive.mount(\"/content/drive\", force_remount=True).\n",
            "Welcome to Hangman!\n",
            "_ _ _ _ _ _ _\n",
            "Guess your letter: a\n",
            "_ _ _ _ _ _ _\n",
            "Guess your letter: s\n",
            "S _ _ _ _ _ S\n",
            "Guess your letter: d\n",
            "S _ _ _ _ _ S\n",
            "Guess your letter: f\n",
            "S _ _ _ _ _ S\n",
            "Guess your letter: g\n",
            "S _ _ _ _ _ S\n",
            "Guess your letter: h\n",
            "S _ _ _ H _ S\n",
            "Guess your letter: j\n",
            "S _ _ _ H _ S\n",
            "Guess your letter: k\n",
            "S _ _ _ H _ S\n",
            "Guess your letter: l\n",
            "S _ _ _ H _ S\n",
            "Guess your letter: z\n",
            "S _ _ _ H _ S\n",
            "Guess your letter: x\n",
            "S _ _ _ H _ S\n",
            "Guess your letter: c\n",
            "S _ _ _ H _ S\n",
            "Guess your letter: v\n",
            "S _ _ _ H _ S\n",
            "Guess your letter: b\n",
            "S _ _ _ H _ S\n",
            "Guess your letter: n\n",
            "S _ _ _ H _ S\n",
            "Guess your letter: m\n",
            "S _ _ _ H _ S\n",
            "Guess your letter: ,\n",
            "S _ _ _ H _ S\n",
            "Guess your letter: q\n",
            "S _ _ _ H _ S\n",
            "Guess your letter: w\n",
            "S _ _ _ H _ S\n",
            "Guess your letter: e\n",
            "S E E _ H E S\n",
            "Guess your letter: r\n",
            "S E E _ H E S\n",
            "Guess your letter: \n",
            "S E E _ H E S\n",
            "Guess your letter: t\n",
            "S E E T H E S\n",
            "Good job! You figured that the word is SEETHES after guessing 23 letters!\n"
          ],
          "name": "stdout"
        }
      ]
    },
    {
      "cell_type": "markdown",
      "metadata": {
        "id": "_3rfxGKD0UPk"
      },
      "source": [
        "**Exercise 33 (Birthday Dictionaries)** *\n",
        "\n",
        "\n",
        "---\n",
        "\n",
        "\n",
        "\n",
        "---\n",
        "\n",
        "This exercise is Part 1 of 4 of the birthday data exercise series. \n",
        "\n",
        "The other exercises are: Part 2, Part 3, and Part 4.\n",
        "\n",
        "For this exercise, we will keep track of when our friend’s birthdays are, and be able to find that information based on their name. Create a dictionary (in your file) of names and birthdays. When you run your program it should ask the user to enter a name, and return the birthday of that person back to them. \n",
        "\n",
        "The interaction should look something like this:\n",
        "\n",
        ">>> Welcome to the birthday dictionary. We know the birthdays of:\n",
        "\n",
        "Albert Einstein\n",
        "\n",
        "Benjamin Franklin\n",
        "\n",
        "Ada Lovelace\n",
        "\n",
        ">>> Who's birthday do you want to look up?\n",
        "\n",
        "Benjamin Franklin\n",
        "\n",
        ">>> Benjamin Franklin's birthday is 01/17/1706."
      ]
    },
    {
      "cell_type": "code",
      "metadata": {
        "colab": {
          "base_uri": "https://localhost:8080/"
        },
        "id": "LX_QsS7Y03Rh",
        "outputId": "9ea35d6f-8deb-4c8e-a935-51dec9b15acb"
      },
      "source": [
        "if __name__ == '__main__':\n",
        "\n",
        "    birthdays = {\n",
        "        'Amir Mehrpanah': '1375/09/16',\n",
        "        'Rohallah Mahdi': '1366/03/24',\n",
        "        'Yazdan Golzade': '1363/04/01'}\n",
        "\n",
        "    print('Welcome to the birthday dictionary. We know the birthdays of:')\n",
        "    for name in birthdays:\n",
        "        print(name)\n",
        "\n",
        "    print('Who\\'s birthday do you want to look up?')\n",
        "    name = input()\n",
        "    if name in birthdays:\n",
        "        print('{}\\'s birthday is {}.'.format(name, birthdays[name]))\n",
        "    else:\n",
        "        print('Sadly, we don\\'t have {}\\'s birthday.'.format(name))"
      ],
      "execution_count": null,
      "outputs": [
        {
          "output_type": "stream",
          "text": [
            "Welcome to the birthday dictionary. We know the birthdays of:\n",
            "Amir Mehrpanah\n",
            "Rohallah Mahdi\n",
            "Yazdan Golzade\n",
            "Who's birthday do you want to look up?\n",
            "Amir Mehrpanah\n",
            "Amir Mehrpanah's birthday is 1375/09/16.\n"
          ],
          "name": "stdout"
        }
      ]
    },
    {
      "cell_type": "markdown",
      "metadata": {
        "id": "ZKte0GID7Gdf"
      },
      "source": [
        "**Exercise 34 (Birthday Json)** **\n",
        "\n",
        "\n",
        "---\n",
        "\n",
        "\n",
        "\n",
        "---\n",
        "\n",
        "This exercise is Part 2 of 4 of the birthday data exercise series.\n",
        "\n",
        " The other exercises are: Part 1, Part 3, and Part 4.\n",
        "\n",
        "In the previous exercise we created a dictionary of famous scientists’ birthdays.\n",
        "\n",
        " In this exercise, modify your program from Part 1 to load the birthday dictionary from a JSON file on disk, rather than having the dictionary defined in the program.\n",
        "\n",
        "Bonus: Ask the user for another scientist’s name and birthday to add to the dictionary, and update the JSON file you have on disk with the scientist’s name.\n",
        "\n",
        " If you run the program multiple times and keep adding new names, your JSON file should keep getting bigger and bigger."
      ]
    },
    {
      "cell_type": "code",
      "metadata": {
        "id": "IzqNfZHV7ouN"
      },
      "source": [
        ""
      ],
      "execution_count": null,
      "outputs": []
    },
    {
      "cell_type": "markdown",
      "metadata": {
        "id": "zjJHyeei7K-r"
      },
      "source": [
        "**Exercise 35 (Birthday Months)** **\n",
        "\n",
        "\n",
        "---\n",
        "\n",
        "\n",
        "\n",
        "---\n",
        "This exercise is Part 3 of 4 of the birthday data exercise series. \n",
        "\n",
        "The other exercises are: Part 1, Part 2, and Part 4.\n",
        "\n",
        "In the previous exercise we saved information about famous scientists’ names and birthdays to disk.\n",
        "\n",
        " In this exercise, load that JSON file from disk, extract the months of all the birthdays, and count how many scientists have a birthday in each month.\n",
        "\n",
        "Your program should output something like:\n",
        "\n",
        "\n",
        "{\n",
        "\t\"May\": 3,\n",
        "\t\"November\": 2,\n",
        "\t\"December\": 1\n",
        "}\n",
        "\n",
        "Discussion\n",
        "\n",
        "\n",
        "You already have the skills to achieve this exercise with concepts we’ve already covered: for loops, dictionaries, and basic arithmetic.\n",
        "\n",
        " However, I want to talk about a Python built-in called a Counter.\n",
        "\n",
        "A Counter takes a list and counts how many of each element were in the list.\n",
        "\n",
        " To use the Counter, first import it from collections:\n",
        "\n",
        "from collections import Counter\n",
        "This lets you use the Counter data structure built into Python in your program. Then, give it a list:\n",
        "\n",
        "sandwiches = [\"ham\", \"cheese\", \"roast beef\", \"ham\", \"cheese\", \"roast beef\", \"ham\"]\n",
        "c = Counter(sandwiches)\n",
        "If you print(c), you will see this:\n",
        "\n",
        "Counter({\"ham\": 3, \"roast beef\": 2, \"cheese\": 2})\n",
        "This means there are 3 ham, 2 roast beef, and 2 cheese sandwiches in my list. I can get this information directly from the Counter:\n",
        "\n",
        ">>> print(\"There are {} ham sandwiches\".format(c[\"ham\"]))\n",
        "There are 3 ham sandwiches\n",
        "Hope this is useful!"
      ]
    },
    {
      "cell_type": "markdown",
      "metadata": {
        "id": "dLI9c_U27Jxn"
      },
      "source": [
        "**Exercise 36 (Birthday Plots)** **\n",
        "\n",
        "\n",
        "---\n",
        "\n",
        "\n",
        "\n",
        "---\n",
        "\n",
        "This exercise is Part 4 of 4 of the birthday data exercise series. The other exercises are: Part 1, Part 2, and Part 3.\n",
        "\n",
        "In the previous exercise we counted how many birthdays there are in each month in our dictionary of birthdays.\n",
        "\n",
        "In this exercise, use the bokeh Python library to plot a histogram of which months the scientists have birthdays in! Because it would take a long time for you to input the months of various scientists, you can use my scientist birthday JSON file. Just parse out the months \n",
        "(if you don’t know how, I suggest looking at the previous exercise or its solution) and draw your histogram.\n",
        "\n",
        "If you are using a purely web-based interface for coding, this exercise won’t work for you, since it requires installing the bokeh Python package.\n",
        "\n",
        " Now might be a good time to install Python on your own computer."
      ]
    },
    {
      "cell_type": "code",
      "metadata": {
        "id": "9KmeP22u93-w"
      },
      "source": [
        ""
      ],
      "execution_count": null,
      "outputs": []
    }
  ]
}